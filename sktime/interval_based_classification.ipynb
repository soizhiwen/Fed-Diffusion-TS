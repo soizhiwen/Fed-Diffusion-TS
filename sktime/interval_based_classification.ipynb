{
 "cells": [
  {
   "cell_type": "markdown",
   "metadata": {},
   "source": [
    "# Interval based time series classification in sktime\n",
    "\n",
    "Interval based approaches look at phase dependent intervals of the full series, calculating summary statistics from selected subseries to be used in classification."
   ]
  },
  {
   "cell_type": "markdown",
   "metadata": {
    "collapsed": false
   },
   "source": [
    "## 1. Imports"
   ]
  },
  {
   "cell_type": "code",
   "execution_count": 58,
   "metadata": {},
   "outputs": [],
   "source": [
    "import numpy as np\n",
    "import pandas as pd\n",
    "from sklearn import metrics\n",
    "\n",
    "from sktime.classification.interval_based import (\n",
    "    CanonicalIntervalForest,\n",
    "    DrCIF,\n",
    ")\n",
    "from sktime.datasets import load_basic_motions\n",
    "from sktime.datatypes import mtype"
   ]
  },
  {
   "cell_type": "markdown",
   "metadata": {},
   "source": [
    "## 2. Load data"
   ]
  },
  {
   "cell_type": "code",
   "execution_count": 59,
   "metadata": {},
   "outputs": [
    {
     "name": "stdout",
     "output_type": "stream",
     "text": [
      "(40, 6) (40,) (40, 6) (40,)\n",
      "(40, 6) (40,) (40, 6) (40,)\n"
     ]
    }
   ],
   "source": [
    "X_train_mv, y_train_mv = load_basic_motions(split=\"train\", return_X_y=True)\n",
    "X_test_mv, y_test_mv = load_basic_motions(split=\"test\", return_X_y=True)\n",
    "\n",
    "print(X_train_mv.shape, y_train_mv.shape, X_test_mv.shape, y_test_mv.shape)\n",
    "\n",
    "X_train_mv = X_train_mv[:40]\n",
    "y_train_mv = y_train_mv[:40]\n",
    "X_test_mv = X_test_mv[:40]\n",
    "y_test_mv = y_test_mv[:40]\n",
    "\n",
    "print(X_train_mv.shape, y_train_mv.shape, X_test_mv.shape, y_test_mv.shape)"
   ]
  },
  {
   "cell_type": "code",
   "execution_count": 60,
   "metadata": {},
   "outputs": [],
   "source": [
    "for i in range(X_train_mv.shape[0]):\n",
    "    for col in X_train_mv.columns:\n",
    "        X_train_mv.loc[i][col] = X_train_mv.loc[i][col][:24]\n",
    "\n",
    "for i in range(X_test_mv.shape[0]):\n",
    "    for col in X_test_mv.columns:\n",
    "        X_test_mv.loc[i][col] = X_test_mv.loc[i][col][:24]"
   ]
  },
  {
   "cell_type": "code",
   "execution_count": 61,
   "metadata": {},
   "outputs": [
    {
     "data": {
      "text/plain": [
       "'nested_univ'"
      ]
     },
     "execution_count": 61,
     "metadata": {},
     "output_type": "execute_result"
    }
   ],
   "source": [
    "stock_ds = np.load(\"./OUTPUT/samples/stock_norm_truth_24_nested_univ.npy\", allow_pickle=True)\n",
    "stock_df = pd.DataFrame(stock_ds)\n",
    "mtype(stock_df, as_scitype=\"Panel\")"
   ]
  },
  {
   "cell_type": "code",
   "execution_count": 62,
   "metadata": {},
   "outputs": [
    {
     "data": {
      "text/html": [
       "<div>\n",
       "<style scoped>\n",
       "    .dataframe tbody tr th:only-of-type {\n",
       "        vertical-align: middle;\n",
       "    }\n",
       "\n",
       "    .dataframe tbody tr th {\n",
       "        vertical-align: top;\n",
       "    }\n",
       "\n",
       "    .dataframe thead th {\n",
       "        text-align: right;\n",
       "    }\n",
       "</style>\n",
       "<table border=\"1\" class=\"dataframe\">\n",
       "  <thead>\n",
       "    <tr style=\"text-align: right;\">\n",
       "      <th></th>\n",
       "      <th>0</th>\n",
       "      <th>1</th>\n",
       "      <th>2</th>\n",
       "      <th>3</th>\n",
       "      <th>4</th>\n",
       "      <th>5</th>\n",
       "    </tr>\n",
       "  </thead>\n",
       "  <tbody>\n",
       "    <tr>\n",
       "      <th>0</th>\n",
       "      <td>0     0.168671\n",
       "1     0.169871\n",
       "2     0.167439\n",
       "3...</td>\n",
       "      <td>0     0.168727\n",
       "1     0.169337\n",
       "2     0.167932\n",
       "3...</td>\n",
       "      <td>0     0.171846\n",
       "1     0.170821\n",
       "2     0.169671\n",
       "3...</td>\n",
       "      <td>0     0.168885\n",
       "1     0.167116\n",
       "2     0.168803\n",
       "3...</td>\n",
       "      <td>0     0.168885\n",
       "1     0.167116\n",
       "2     0.168803\n",
       "3...</td>\n",
       "      <td>0     0.105840\n",
       "1     0.105423\n",
       "2     0.107163\n",
       "3...</td>\n",
       "    </tr>\n",
       "    <tr>\n",
       "      <th>1</th>\n",
       "      <td>0     0.085718\n",
       "1     0.080664\n",
       "2     0.083693\n",
       "3...</td>\n",
       "      <td>0     0.086112\n",
       "1     0.081962\n",
       "2     0.083858\n",
       "3...</td>\n",
       "      <td>0     0.083442\n",
       "1     0.078910\n",
       "2     0.082594\n",
       "3...</td>\n",
       "      <td>0     0.081919\n",
       "1     0.081112\n",
       "2     0.081389\n",
       "3...</td>\n",
       "      <td>0     0.081919\n",
       "1     0.081112\n",
       "2     0.081389\n",
       "3...</td>\n",
       "      <td>0     0.132901\n",
       "1     0.144250\n",
       "2     0.126979\n",
       "3...</td>\n",
       "    </tr>\n",
       "    <tr>\n",
       "      <th>2</th>\n",
       "      <td>0     0.419600\n",
       "1     0.393184\n",
       "2     0.397824\n",
       "3...</td>\n",
       "      <td>0     0.418008\n",
       "1     0.397684\n",
       "2     0.401017\n",
       "3...</td>\n",
       "      <td>0     0.407273\n",
       "1     0.396205\n",
       "2     0.398713\n",
       "3...</td>\n",
       "      <td>0     0.400698\n",
       "1     0.392252\n",
       "2     0.393818\n",
       "3...</td>\n",
       "      <td>0     0.400698\n",
       "1     0.392252\n",
       "2     0.393818\n",
       "3...</td>\n",
       "      <td>0     0.048816\n",
       "1     0.047459\n",
       "2     0.031104\n",
       "3...</td>\n",
       "    </tr>\n",
       "    <tr>\n",
       "      <th>3</th>\n",
       "      <td>0     0.248200\n",
       "1     0.247595\n",
       "2     0.247460\n",
       "3...</td>\n",
       "      <td>0     0.248216\n",
       "1     0.248168\n",
       "2     0.250515\n",
       "3...</td>\n",
       "      <td>0     0.252675\n",
       "1     0.251843\n",
       "2     0.252580\n",
       "3...</td>\n",
       "      <td>0     0.248526\n",
       "1     0.248648\n",
       "2     0.252031\n",
       "3...</td>\n",
       "      <td>0     0.248526\n",
       "1     0.248648\n",
       "2     0.252031\n",
       "3...</td>\n",
       "      <td>0     0.063593\n",
       "1     0.036590\n",
       "2     0.050175\n",
       "3...</td>\n",
       "    </tr>\n",
       "    <tr>\n",
       "      <th>4</th>\n",
       "      <td>0     0.830821\n",
       "1     0.850212\n",
       "2     0.855123\n",
       "3...</td>\n",
       "      <td>0     0.846650\n",
       "1     0.852601\n",
       "2     0.861331\n",
       "3...</td>\n",
       "      <td>0     0.845332\n",
       "1     0.862639\n",
       "2     0.869297\n",
       "3...</td>\n",
       "      <td>0     0.847495\n",
       "1     0.850712\n",
       "2     0.863701\n",
       "3...</td>\n",
       "      <td>0     0.847495\n",
       "1     0.850712\n",
       "2     0.863701\n",
       "3...</td>\n",
       "      <td>0     0.017186\n",
       "1     0.012043\n",
       "2     0.015360\n",
       "3...</td>\n",
       "    </tr>\n",
       "  </tbody>\n",
       "</table>\n",
       "</div>"
      ],
      "text/plain": [
       "                                                   0  \\\n",
       "0  0     0.168671\n",
       "1     0.169871\n",
       "2     0.167439\n",
       "3...   \n",
       "1  0     0.085718\n",
       "1     0.080664\n",
       "2     0.083693\n",
       "3...   \n",
       "2  0     0.419600\n",
       "1     0.393184\n",
       "2     0.397824\n",
       "3...   \n",
       "3  0     0.248200\n",
       "1     0.247595\n",
       "2     0.247460\n",
       "3...   \n",
       "4  0     0.830821\n",
       "1     0.850212\n",
       "2     0.855123\n",
       "3...   \n",
       "\n",
       "                                                   1  \\\n",
       "0  0     0.168727\n",
       "1     0.169337\n",
       "2     0.167932\n",
       "3...   \n",
       "1  0     0.086112\n",
       "1     0.081962\n",
       "2     0.083858\n",
       "3...   \n",
       "2  0     0.418008\n",
       "1     0.397684\n",
       "2     0.401017\n",
       "3...   \n",
       "3  0     0.248216\n",
       "1     0.248168\n",
       "2     0.250515\n",
       "3...   \n",
       "4  0     0.846650\n",
       "1     0.852601\n",
       "2     0.861331\n",
       "3...   \n",
       "\n",
       "                                                   2  \\\n",
       "0  0     0.171846\n",
       "1     0.170821\n",
       "2     0.169671\n",
       "3...   \n",
       "1  0     0.083442\n",
       "1     0.078910\n",
       "2     0.082594\n",
       "3...   \n",
       "2  0     0.407273\n",
       "1     0.396205\n",
       "2     0.398713\n",
       "3...   \n",
       "3  0     0.252675\n",
       "1     0.251843\n",
       "2     0.252580\n",
       "3...   \n",
       "4  0     0.845332\n",
       "1     0.862639\n",
       "2     0.869297\n",
       "3...   \n",
       "\n",
       "                                                   3  \\\n",
       "0  0     0.168885\n",
       "1     0.167116\n",
       "2     0.168803\n",
       "3...   \n",
       "1  0     0.081919\n",
       "1     0.081112\n",
       "2     0.081389\n",
       "3...   \n",
       "2  0     0.400698\n",
       "1     0.392252\n",
       "2     0.393818\n",
       "3...   \n",
       "3  0     0.248526\n",
       "1     0.248648\n",
       "2     0.252031\n",
       "3...   \n",
       "4  0     0.847495\n",
       "1     0.850712\n",
       "2     0.863701\n",
       "3...   \n",
       "\n",
       "                                                   4  \\\n",
       "0  0     0.168885\n",
       "1     0.167116\n",
       "2     0.168803\n",
       "3...   \n",
       "1  0     0.081919\n",
       "1     0.081112\n",
       "2     0.081389\n",
       "3...   \n",
       "2  0     0.400698\n",
       "1     0.392252\n",
       "2     0.393818\n",
       "3...   \n",
       "3  0     0.248526\n",
       "1     0.248648\n",
       "2     0.252031\n",
       "3...   \n",
       "4  0     0.847495\n",
       "1     0.850712\n",
       "2     0.863701\n",
       "3...   \n",
       "\n",
       "                                                   5  \n",
       "0  0     0.105840\n",
       "1     0.105423\n",
       "2     0.107163\n",
       "3...  \n",
       "1  0     0.132901\n",
       "1     0.144250\n",
       "2     0.126979\n",
       "3...  \n",
       "2  0     0.048816\n",
       "1     0.047459\n",
       "2     0.031104\n",
       "3...  \n",
       "3  0     0.063593\n",
       "1     0.036590\n",
       "2     0.050175\n",
       "3...  \n",
       "4  0     0.017186\n",
       "1     0.012043\n",
       "2     0.015360\n",
       "3...  "
      ]
     },
     "execution_count": 62,
     "metadata": {},
     "output_type": "execute_result"
    }
   ],
   "source": [
    "stock_df.head()"
   ]
  },
  {
   "cell_type": "markdown",
   "metadata": {},
   "source": [
    "## 6. Canonical Interval Forest (CIF)\n",
    "\n",
    "CIF extends from the TSF algorithm. In addition to the 3 summary statistics used by TSF, CIF makes use of the features from the `Catch22` \\[5\\] transform.\n",
    "To increase the diversity of the ensemble, the number of TSF and catch22 attributes is randomly subsampled per tree."
   ]
  },
  {
   "cell_type": "markdown",
   "metadata": {},
   "source": [
    "### Multivariate"
   ]
  },
  {
   "cell_type": "code",
   "execution_count": 63,
   "metadata": {
    "pycharm": {
     "name": "#%%\n"
    }
   },
   "outputs": [
    {
     "name": "stderr",
     "output_type": "stream",
     "text": [
      "/home/engineer/miniconda3/envs/diffts/lib/python3.8/site-packages/sktime/transformations/panel/catch22.py:354: FutureWarning: In Catch22._transform_single_feature, the argument case_id is deprecated and will be removed in the future.\n",
      "  warn(\n",
      "/home/engineer/miniconda3/envs/diffts/lib/python3.8/site-packages/sktime/transformations/panel/catch22.py:354: FutureWarning: In Catch22._transform_single_feature, the argument case_id is deprecated and will be removed in the future.\n",
      "  warn(\n",
      "/home/engineer/miniconda3/envs/diffts/lib/python3.8/site-packages/sktime/transformations/panel/catch22.py:354: FutureWarning: In Catch22._transform_single_feature, the argument case_id is deprecated and will be removed in the future.\n",
      "  warn(\n",
      "/home/engineer/miniconda3/envs/diffts/lib/python3.8/site-packages/sktime/transformations/panel/catch22.py:354: FutureWarning: In Catch22._transform_single_feature, the argument case_id is deprecated and will be removed in the future.\n",
      "  warn(\n",
      "/home/engineer/miniconda3/envs/diffts/lib/python3.8/site-packages/sktime/transformations/panel/catch22.py:354: FutureWarning: In Catch22._transform_single_feature, the argument case_id is deprecated and will be removed in the future.\n",
      "  warn(\n",
      "/home/engineer/miniconda3/envs/diffts/lib/python3.8/site-packages/sktime/transformations/panel/catch22.py:354: FutureWarning: In Catch22._transform_single_feature, the argument case_id is deprecated and will be removed in the future.\n",
      "  warn(\n",
      "/home/engineer/miniconda3/envs/diffts/lib/python3.8/site-packages/sktime/transformations/panel/catch22.py:354: FutureWarning: In Catch22._transform_single_feature, the argument case_id is deprecated and will be removed in the future.\n",
      "  warn(\n",
      "/home/engineer/miniconda3/envs/diffts/lib/python3.8/site-packages/sktime/transformations/panel/catch22.py:354: FutureWarning: In Catch22._transform_single_feature, the argument case_id is deprecated and will be removed in the future.\n",
      "  warn(\n",
      "/home/engineer/miniconda3/envs/diffts/lib/python3.8/site-packages/sktime/transformations/panel/catch22.py:354: FutureWarning: In Catch22._transform_single_feature, the argument case_id is deprecated and will be removed in the future.\n",
      "  warn(\n",
      "/home/engineer/miniconda3/envs/diffts/lib/python3.8/site-packages/sktime/transformations/panel/catch22.py:354: FutureWarning: In Catch22._transform_single_feature, the argument case_id is deprecated and will be removed in the future.\n",
      "  warn(\n",
      "/home/engineer/miniconda3/envs/diffts/lib/python3.8/site-packages/sktime/transformations/panel/catch22.py:354: FutureWarning: In Catch22._transform_single_feature, the argument case_id is deprecated and will be removed in the future.\n",
      "  warn(\n",
      "/home/engineer/miniconda3/envs/diffts/lib/python3.8/site-packages/sktime/transformations/panel/catch22.py:354: FutureWarning: In Catch22._transform_single_feature, the argument case_id is deprecated and will be removed in the future.\n",
      "  warn(\n",
      "/home/engineer/miniconda3/envs/diffts/lib/python3.8/site-packages/sktime/transformations/panel/catch22.py:354: FutureWarning: In Catch22._transform_single_feature, the argument case_id is deprecated and will be removed in the future.\n",
      "  warn(\n",
      "/home/engineer/miniconda3/envs/diffts/lib/python3.8/site-packages/sktime/transformations/panel/catch22.py:354: FutureWarning: In Catch22._transform_single_feature, the argument case_id is deprecated and will be removed in the future.\n",
      "  warn(\n",
      "/home/engineer/miniconda3/envs/diffts/lib/python3.8/site-packages/sktime/transformations/panel/catch22.py:354: FutureWarning: In Catch22._transform_single_feature, the argument case_id is deprecated and will be removed in the future.\n",
      "  warn(\n",
      "/home/engineer/miniconda3/envs/diffts/lib/python3.8/site-packages/sktime/transformations/panel/catch22.py:354: FutureWarning: In Catch22._transform_single_feature, the argument case_id is deprecated and will be removed in the future.\n",
      "  warn(\n",
      "/home/engineer/miniconda3/envs/diffts/lib/python3.8/site-packages/sktime/transformations/panel/catch22.py:354: FutureWarning: In Catch22._transform_single_feature, the argument case_id is deprecated and will be removed in the future.\n",
      "  warn(\n",
      "/home/engineer/miniconda3/envs/diffts/lib/python3.8/site-packages/sktime/transformations/panel/catch22.py:354: FutureWarning: In Catch22._transform_single_feature, the argument case_id is deprecated and will be removed in the future.\n",
      "  warn(\n",
      "/home/engineer/miniconda3/envs/diffts/lib/python3.8/site-packages/sktime/transformations/panel/catch22.py:354: FutureWarning: In Catch22._transform_single_feature, the argument case_id is deprecated and will be removed in the future.\n",
      "  warn(\n",
      "/home/engineer/miniconda3/envs/diffts/lib/python3.8/site-packages/sktime/transformations/panel/catch22.py:354: FutureWarning: In Catch22._transform_single_feature, the argument case_id is deprecated and will be removed in the future.\n",
      "  warn(\n",
      "/home/engineer/miniconda3/envs/diffts/lib/python3.8/site-packages/sktime/transformations/panel/catch22.py:354: FutureWarning: In Catch22._transform_single_feature, the argument case_id is deprecated and will be removed in the future.\n",
      "  warn(\n",
      "/home/engineer/miniconda3/envs/diffts/lib/python3.8/site-packages/sktime/transformations/panel/catch22.py:354: FutureWarning: In Catch22._transform_single_feature, the argument case_id is deprecated and will be removed in the future.\n",
      "  warn(\n",
      "/home/engineer/miniconda3/envs/diffts/lib/python3.8/site-packages/sktime/transformations/panel/catch22.py:354: FutureWarning: In Catch22._transform_single_feature, the argument case_id is deprecated and will be removed in the future.\n",
      "  warn(\n",
      "/home/engineer/miniconda3/envs/diffts/lib/python3.8/site-packages/sktime/transformations/panel/catch22.py:354: FutureWarning: In Catch22._transform_single_feature, the argument case_id is deprecated and will be removed in the future.\n",
      "  warn(\n",
      "/home/engineer/miniconda3/envs/diffts/lib/python3.8/site-packages/sktime/transformations/panel/catch22.py:354: FutureWarning: In Catch22._transform_single_feature, the argument case_id is deprecated and will be removed in the future.\n",
      "  warn(\n",
      "/home/engineer/miniconda3/envs/diffts/lib/python3.8/site-packages/sktime/transformations/panel/catch22.py:354: FutureWarning: In Catch22._transform_single_feature, the argument case_id is deprecated and will be removed in the future.\n",
      "  warn(\n",
      "/home/engineer/miniconda3/envs/diffts/lib/python3.8/site-packages/sktime/transformations/panel/catch22.py:354: FutureWarning: In Catch22._transform_single_feature, the argument case_id is deprecated and will be removed in the future.\n",
      "  warn(\n",
      "/home/engineer/miniconda3/envs/diffts/lib/python3.8/site-packages/sktime/transformations/panel/catch22.py:354: FutureWarning: In Catch22._transform_single_feature, the argument case_id is deprecated and will be removed in the future.\n",
      "  warn(\n",
      "/home/engineer/miniconda3/envs/diffts/lib/python3.8/site-packages/sktime/transformations/panel/catch22.py:354: FutureWarning: In Catch22._transform_single_feature, the argument case_id is deprecated and will be removed in the future.\n",
      "  warn(\n",
      "/home/engineer/miniconda3/envs/diffts/lib/python3.8/site-packages/sktime/transformations/panel/catch22.py:354: FutureWarning: In Catch22._transform_single_feature, the argument case_id is deprecated and will be removed in the future.\n",
      "  warn(\n",
      "/home/engineer/miniconda3/envs/diffts/lib/python3.8/site-packages/sktime/transformations/panel/catch22.py:354: FutureWarning: In Catch22._transform_single_feature, the argument case_id is deprecated and will be removed in the future.\n",
      "  warn(\n",
      "/home/engineer/miniconda3/envs/diffts/lib/python3.8/site-packages/sktime/transformations/panel/catch22.py:354: FutureWarning: In Catch22._transform_single_feature, the argument case_id is deprecated and will be removed in the future.\n",
      "  warn(\n",
      "/home/engineer/miniconda3/envs/diffts/lib/python3.8/site-packages/sktime/transformations/panel/catch22.py:354: FutureWarning: In Catch22._transform_single_feature, the argument case_id is deprecated and will be removed in the future.\n",
      "  warn(\n",
      "/home/engineer/miniconda3/envs/diffts/lib/python3.8/site-packages/sktime/transformations/panel/catch22.py:354: FutureWarning: In Catch22._transform_single_feature, the argument case_id is deprecated and will be removed in the future.\n",
      "  warn(\n",
      "/home/engineer/miniconda3/envs/diffts/lib/python3.8/site-packages/sktime/transformations/panel/catch22.py:354: FutureWarning: In Catch22._transform_single_feature, the argument case_id is deprecated and will be removed in the future.\n",
      "  warn(\n",
      "/home/engineer/miniconda3/envs/diffts/lib/python3.8/site-packages/sktime/transformations/panel/catch22.py:354: FutureWarning: In Catch22._transform_single_feature, the argument case_id is deprecated and will be removed in the future.\n",
      "  warn(\n",
      "/home/engineer/miniconda3/envs/diffts/lib/python3.8/site-packages/sktime/transformations/panel/catch22.py:354: FutureWarning: In Catch22._transform_single_feature, the argument case_id is deprecated and will be removed in the future.\n",
      "  warn(\n",
      "/home/engineer/miniconda3/envs/diffts/lib/python3.8/site-packages/sktime/transformations/panel/catch22.py:354: FutureWarning: In Catch22._transform_single_feature, the argument case_id is deprecated and will be removed in the future.\n",
      "  warn(\n",
      "/home/engineer/miniconda3/envs/diffts/lib/python3.8/site-packages/sktime/transformations/panel/catch22.py:354: FutureWarning: In Catch22._transform_single_feature, the argument case_id is deprecated and will be removed in the future.\n",
      "  warn(\n",
      "/home/engineer/miniconda3/envs/diffts/lib/python3.8/site-packages/sktime/transformations/panel/catch22.py:354: FutureWarning: In Catch22._transform_single_feature, the argument case_id is deprecated and will be removed in the future.\n",
      "  warn(\n",
      "/home/engineer/miniconda3/envs/diffts/lib/python3.8/site-packages/sktime/transformations/panel/catch22.py:354: FutureWarning: In Catch22._transform_single_feature, the argument case_id is deprecated and will be removed in the future.\n",
      "  warn(\n",
      "/home/engineer/miniconda3/envs/diffts/lib/python3.8/site-packages/sktime/transformations/panel/catch22.py:354: FutureWarning: In Catch22._transform_single_feature, the argument case_id is deprecated and will be removed in the future.\n",
      "  warn(\n",
      "/home/engineer/miniconda3/envs/diffts/lib/python3.8/site-packages/sktime/transformations/panel/catch22.py:354: FutureWarning: In Catch22._transform_single_feature, the argument case_id is deprecated and will be removed in the future.\n",
      "  warn(\n",
      "/home/engineer/miniconda3/envs/diffts/lib/python3.8/site-packages/sktime/transformations/panel/catch22.py:354: FutureWarning: In Catch22._transform_single_feature, the argument case_id is deprecated and will be removed in the future.\n",
      "  warn(\n",
      "/home/engineer/miniconda3/envs/diffts/lib/python3.8/site-packages/sktime/transformations/panel/catch22.py:354: FutureWarning: In Catch22._transform_single_feature, the argument case_id is deprecated and will be removed in the future.\n",
      "  warn(\n",
      "/home/engineer/miniconda3/envs/diffts/lib/python3.8/site-packages/sktime/transformations/panel/catch22.py:354: FutureWarning: In Catch22._transform_single_feature, the argument case_id is deprecated and will be removed in the future.\n",
      "  warn(\n",
      "/home/engineer/miniconda3/envs/diffts/lib/python3.8/site-packages/sktime/transformations/panel/catch22.py:354: FutureWarning: In Catch22._transform_single_feature, the argument case_id is deprecated and will be removed in the future.\n",
      "  warn(\n",
      "/home/engineer/miniconda3/envs/diffts/lib/python3.8/site-packages/sktime/transformations/panel/catch22.py:354: FutureWarning: In Catch22._transform_single_feature, the argument case_id is deprecated and will be removed in the future.\n",
      "  warn(\n",
      "/home/engineer/miniconda3/envs/diffts/lib/python3.8/site-packages/sktime/transformations/panel/catch22.py:354: FutureWarning: In Catch22._transform_single_feature, the argument case_id is deprecated and will be removed in the future.\n",
      "  warn(\n",
      "/home/engineer/miniconda3/envs/diffts/lib/python3.8/site-packages/sktime/transformations/panel/catch22.py:354: FutureWarning: In Catch22._transform_single_feature, the argument case_id is deprecated and will be removed in the future.\n",
      "  warn(\n",
      "/home/engineer/miniconda3/envs/diffts/lib/python3.8/site-packages/sktime/transformations/panel/catch22.py:354: FutureWarning: In Catch22._transform_single_feature, the argument case_id is deprecated and will be removed in the future.\n",
      "  warn(\n"
     ]
    },
    {
     "name": "stdout",
     "output_type": "stream",
     "text": [
      "CIF Accuracy: 0.975\n"
     ]
    }
   ],
   "source": [
    "cif_m = CanonicalIntervalForest(n_estimators=50, att_subsample_size=8, random_state=47)\n",
    "cif_m.fit(X_train_mv, y_train_mv)\n",
    "\n",
    "cif_m_preds = cif_m.predict(X_test_mv)\n",
    "print(\"CIF Accuracy: \" + str(metrics.accuracy_score(y_test_mv, cif_m_preds)))"
   ]
  },
  {
   "cell_type": "code",
   "execution_count": 64,
   "metadata": {},
   "outputs": [
    {
     "name": "stderr",
     "output_type": "stream",
     "text": [
      "/home/engineer/miniconda3/envs/diffts/lib/python3.8/site-packages/sktime/transformations/panel/catch22.py:354: FutureWarning: In Catch22._transform_single_feature, the argument case_id is deprecated and will be removed in the future.\n",
      "  warn(\n"
     ]
    }
   ],
   "source": [
    "cif_stock_preds = cif_m.predict(stock_df)"
   ]
  },
  {
   "cell_type": "code",
   "execution_count": 68,
   "metadata": {},
   "outputs": [
    {
     "data": {
      "text/plain": [
       "array(['standing'], dtype='<U8')"
      ]
     },
     "execution_count": 68,
     "metadata": {},
     "output_type": "execute_result"
    }
   ],
   "source": [
    "np.unique(cif_stock_preds)"
   ]
  },
  {
   "cell_type": "markdown",
   "metadata": {},
   "source": [
    "## 6. Diverse Representation Canonical Interval Forest (DrCIF)\n",
    "\n",
    "DrCIF makes use of the periodogram and differences representations used by STSF as well as the addition summary statistics in CIF."
   ]
  },
  {
   "cell_type": "markdown",
   "metadata": {
    "pycharm": {
     "name": "#%% md\n"
    }
   },
   "source": [
    "### Multivariate"
   ]
  },
  {
   "cell_type": "code",
   "execution_count": 69,
   "metadata": {
    "pycharm": {
     "name": "#%%\n"
    }
   },
   "outputs": [
    {
     "name": "stderr",
     "output_type": "stream",
     "text": [
      "/home/engineer/miniconda3/envs/diffts/lib/python3.8/site-packages/sktime/transformations/panel/catch22.py:354: FutureWarning: In Catch22._transform_single_feature, the argument case_id is deprecated and will be removed in the future.\n",
      "  warn(\n",
      "/home/engineer/miniconda3/envs/diffts/lib/python3.8/site-packages/sktime/transformations/panel/catch22.py:354: FutureWarning: In Catch22._transform_single_feature, the argument case_id is deprecated and will be removed in the future.\n",
      "  warn(\n",
      "/home/engineer/miniconda3/envs/diffts/lib/python3.8/site-packages/sktime/transformations/panel/catch22.py:354: FutureWarning: In Catch22._transform_single_feature, the argument case_id is deprecated and will be removed in the future.\n",
      "  warn(\n",
      "/home/engineer/miniconda3/envs/diffts/lib/python3.8/site-packages/sktime/transformations/panel/catch22.py:354: FutureWarning: In Catch22._transform_single_feature, the argument case_id is deprecated and will be removed in the future.\n",
      "  warn(\n",
      "/home/engineer/miniconda3/envs/diffts/lib/python3.8/site-packages/sktime/transformations/panel/catch22.py:354: FutureWarning: In Catch22._transform_single_feature, the argument case_id is deprecated and will be removed in the future.\n",
      "  warn(\n"
     ]
    },
    {
     "name": "stdout",
     "output_type": "stream",
     "text": [
      "DrCIF Accuracy: 0.95\n"
     ]
    },
    {
     "name": "stderr",
     "output_type": "stream",
     "text": [
      "/home/engineer/miniconda3/envs/diffts/lib/python3.8/site-packages/sktime/transformations/panel/catch22.py:354: FutureWarning: In Catch22._transform_single_feature, the argument case_id is deprecated and will be removed in the future.\n",
      "  warn(\n"
     ]
    }
   ],
   "source": [
    "drcif_m = DrCIF(n_estimators=5, att_subsample_size=10, random_state=47)\n",
    "drcif_m.fit(X_train_mv, y_train_mv)\n",
    "\n",
    "drcif_m_preds = drcif_m.predict(X_test_mv)\n",
    "print(\"DrCIF Accuracy: \" + str(metrics.accuracy_score(y_test_mv, drcif_m_preds)))"
   ]
  },
  {
   "cell_type": "code",
   "execution_count": 70,
   "metadata": {},
   "outputs": [
    {
     "name": "stderr",
     "output_type": "stream",
     "text": [
      "/home/engineer/miniconda3/envs/diffts/lib/python3.8/site-packages/sktime/transformations/panel/catch22.py:354: FutureWarning: In Catch22._transform_single_feature, the argument case_id is deprecated and will be removed in the future.\n",
      "  warn(\n"
     ]
    }
   ],
   "source": [
    "drcif_stock_preds = drcif_m.predict(stock_df)"
   ]
  },
  {
   "cell_type": "code",
   "execution_count": 71,
   "metadata": {},
   "outputs": [
    {
     "data": {
      "text/plain": [
       "array(['standing'], dtype='<U8')"
      ]
     },
     "execution_count": 71,
     "metadata": {},
     "output_type": "execute_result"
    }
   ],
   "source": [
    "np.unique(drcif_stock_preds)"
   ]
  }
 ],
 "metadata": {
  "kernelspec": {
   "display_name": "Python 3",
   "language": "python",
   "name": "python3"
  },
  "language_info": {
   "codemirror_mode": {
    "name": "ipython",
    "version": 3
   },
   "file_extension": ".py",
   "mimetype": "text/x-python",
   "name": "python",
   "nbconvert_exporter": "python",
   "pygments_lexer": "ipython3",
   "version": "3.8.19"
  }
 },
 "nbformat": 4,
 "nbformat_minor": 2
}
